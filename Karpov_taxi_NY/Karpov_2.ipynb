{
  "nbformat": 4,
  "nbformat_minor": 0,
  "metadata": {
    "colab": {
      "name": "Karpov_2.ipynb",
      "provenance": [],
      "collapsed_sections": []
    },
    "kernelspec": {
      "name": "python3",
      "display_name": "Python 3"
    },
    "language_info": {
      "name": "python"
    }
  },
  "cells": [
    {
      "cell_type": "code",
      "metadata": {
        "id": "-jE6oB8mY1dV"
      },
      "source": [
        "import pandas as pd"
      ],
      "execution_count": 13,
      "outputs": []
    },
    {
      "cell_type": "code",
      "metadata": {
        "id": "--Qqv_JwaPch"
      },
      "source": [
        "#Теперь поработаем с данными о поездках на такси в Нью-Йорке, в которых также имеется информация о погодных условиях и выходных днях.  \n",
        "taxi = pd.read_csv('/content/2_taxi_nyc.csv', encoding='windows-1251', sep=',')"
      ],
      "execution_count": 14,
      "outputs": []
    },
    {
      "cell_type": "code",
      "metadata": {
        "colab": {
          "base_uri": "https://localhost:8080/",
          "height": 204
        },
        "id": "GRsernFWaPiw",
        "outputId": "13848057-6b85-4f8f-f145-ddfe629b5e0f"
      },
      "source": [
        "taxi.head()"
      ],
      "execution_count": 15,
      "outputs": [
        {
          "output_type": "execute_result",
          "data": {
            "text/html": [
              "<div>\n",
              "<style scoped>\n",
              "    .dataframe tbody tr th:only-of-type {\n",
              "        vertical-align: middle;\n",
              "    }\n",
              "\n",
              "    .dataframe tbody tr th {\n",
              "        vertical-align: top;\n",
              "    }\n",
              "\n",
              "    .dataframe thead th {\n",
              "        text-align: right;\n",
              "    }\n",
              "</style>\n",
              "<table border=\"1\" class=\"dataframe\">\n",
              "  <thead>\n",
              "    <tr style=\"text-align: right;\">\n",
              "      <th></th>\n",
              "      <th>pickup_dt</th>\n",
              "      <th>pickup_month</th>\n",
              "      <th>borough</th>\n",
              "      <th>pickups</th>\n",
              "      <th>hday</th>\n",
              "      <th>spd</th>\n",
              "      <th>vsb</th>\n",
              "      <th>temp</th>\n",
              "      <th>dewp</th>\n",
              "      <th>slp</th>\n",
              "      <th>pcp 01</th>\n",
              "      <th>pcp 06</th>\n",
              "      <th>pcp 24</th>\n",
              "      <th>sd</th>\n",
              "    </tr>\n",
              "  </thead>\n",
              "  <tbody>\n",
              "    <tr>\n",
              "      <th>0</th>\n",
              "      <td>2015-01-01 01:00:00</td>\n",
              "      <td>Jan</td>\n",
              "      <td>Bronx</td>\n",
              "      <td>152</td>\n",
              "      <td>Y</td>\n",
              "      <td>5.0</td>\n",
              "      <td>10.0</td>\n",
              "      <td>30.0</td>\n",
              "      <td>7.0</td>\n",
              "      <td>1023.5</td>\n",
              "      <td>0.0</td>\n",
              "      <td>0.0</td>\n",
              "      <td>0.0</td>\n",
              "      <td>0.0</td>\n",
              "    </tr>\n",
              "    <tr>\n",
              "      <th>1</th>\n",
              "      <td>2015-01-01 01:00:00</td>\n",
              "      <td>Jan</td>\n",
              "      <td>Brooklyn</td>\n",
              "      <td>1519</td>\n",
              "      <td>Y</td>\n",
              "      <td>5.0</td>\n",
              "      <td>10.0</td>\n",
              "      <td>30.0</td>\n",
              "      <td>7.0</td>\n",
              "      <td>1023.5</td>\n",
              "      <td>0.0</td>\n",
              "      <td>0.0</td>\n",
              "      <td>0.0</td>\n",
              "      <td>0.0</td>\n",
              "    </tr>\n",
              "    <tr>\n",
              "      <th>2</th>\n",
              "      <td>2015-01-01 01:00:00</td>\n",
              "      <td>Jan</td>\n",
              "      <td>EWR</td>\n",
              "      <td>0</td>\n",
              "      <td>Y</td>\n",
              "      <td>5.0</td>\n",
              "      <td>10.0</td>\n",
              "      <td>30.0</td>\n",
              "      <td>7.0</td>\n",
              "      <td>1023.5</td>\n",
              "      <td>0.0</td>\n",
              "      <td>0.0</td>\n",
              "      <td>0.0</td>\n",
              "      <td>0.0</td>\n",
              "    </tr>\n",
              "    <tr>\n",
              "      <th>3</th>\n",
              "      <td>2015-01-01 01:00:00</td>\n",
              "      <td>Jan</td>\n",
              "      <td>Manhattan</td>\n",
              "      <td>5258</td>\n",
              "      <td>Y</td>\n",
              "      <td>5.0</td>\n",
              "      <td>10.0</td>\n",
              "      <td>30.0</td>\n",
              "      <td>7.0</td>\n",
              "      <td>1023.5</td>\n",
              "      <td>0.0</td>\n",
              "      <td>0.0</td>\n",
              "      <td>0.0</td>\n",
              "      <td>0.0</td>\n",
              "    </tr>\n",
              "    <tr>\n",
              "      <th>4</th>\n",
              "      <td>2015-01-01 01:00:00</td>\n",
              "      <td>Jan</td>\n",
              "      <td>Queens</td>\n",
              "      <td>405</td>\n",
              "      <td>Y</td>\n",
              "      <td>5.0</td>\n",
              "      <td>10.0</td>\n",
              "      <td>30.0</td>\n",
              "      <td>7.0</td>\n",
              "      <td>1023.5</td>\n",
              "      <td>0.0</td>\n",
              "      <td>0.0</td>\n",
              "      <td>0.0</td>\n",
              "      <td>0.0</td>\n",
              "    </tr>\n",
              "  </tbody>\n",
              "</table>\n",
              "</div>"
            ],
            "text/plain": [
              "             pickup_dt pickup_month    borough  ...  pcp 06 pcp 24   sd\n",
              "0  2015-01-01 01:00:00          Jan      Bronx  ...     0.0    0.0  0.0\n",
              "1  2015-01-01 01:00:00          Jan   Brooklyn  ...     0.0    0.0  0.0\n",
              "2  2015-01-01 01:00:00          Jan        EWR  ...     0.0    0.0  0.0\n",
              "3  2015-01-01 01:00:00          Jan  Manhattan  ...     0.0    0.0  0.0\n",
              "4  2015-01-01 01:00:00          Jan     Queens  ...     0.0    0.0  0.0\n",
              "\n",
              "[5 rows x 14 columns]"
            ]
          },
          "metadata": {},
          "execution_count": 15
        }
      ]
    },
    {
      "cell_type": "code",
      "metadata": {
        "colab": {
          "base_uri": "https://localhost:8080/"
        },
        "id": "n0-678uKaPoi",
        "outputId": "0c330ead-9c35-4167-b94e-a4e578d00207"
      },
      "source": [
        "#Проверьте, сколько всего строк и столбцов имеется в датасете.\n",
        "taxi.shape"
      ],
      "execution_count": 16,
      "outputs": [
        {
          "output_type": "execute_result",
          "data": {
            "text/plain": [
              "(29101, 14)"
            ]
          },
          "metadata": {},
          "execution_count": 16
        }
      ]
    },
    {
      "cell_type": "code",
      "metadata": {
        "colab": {
          "base_uri": "https://localhost:8080/"
        },
        "id": "Q4DlEJrdaPsC",
        "outputId": "b673a1ca-e0a9-4996-e1e5-7015b238b53c"
      },
      "source": [
        "#Давайте посмотрим на типы колонок. Все ли из них считались правильно? В качестве ответа выберите тип, преобладающий в датасете.\n",
        "taxi.dtypes"
      ],
      "execution_count": 17,
      "outputs": [
        {
          "output_type": "execute_result",
          "data": {
            "text/plain": [
              "pickup_dt        object\n",
              "pickup_month     object\n",
              "borough          object\n",
              "pickups           int64\n",
              "hday             object\n",
              "spd             float64\n",
              "vsb             float64\n",
              "temp            float64\n",
              "dewp            float64\n",
              "slp             float64\n",
              "pcp 01          float64\n",
              "pcp 06          float64\n",
              "pcp 24          float64\n",
              "sd              float64\n",
              "dtype: object"
            ]
          },
          "metadata": {},
          "execution_count": 17
        }
      ]
    },
    {
      "cell_type": "code",
      "metadata": {
        "colab": {
          "base_uri": "https://localhost:8080/"
        },
        "id": "29FA1rPgaPv8",
        "outputId": "edbce97f-a1b2-4455-9e8e-20f79d37b0cd"
      },
      "source": [
        "#В названиях столбцов pcp 01, pcp 06, pcp 24 встречается пробел. Это не очень удобно, если в дальнейшем вы планируете обращаться к колонкам через точку, без использования кавычек и скобочек. \n",
        "#Замените пробел в названиях на знак нижнего подчеркивания. \n",
        "taxi.columns"
      ],
      "execution_count": 18,
      "outputs": [
        {
          "output_type": "execute_result",
          "data": {
            "text/plain": [
              "Index(['pickup_dt', 'pickup_month', 'borough', 'pickups', 'hday', 'spd', 'vsb',\n",
              "       'temp', 'dewp', 'slp', 'pcp 01', 'pcp 06', 'pcp 24', 'sd'],\n",
              "      dtype='object')"
            ]
          },
          "metadata": {},
          "execution_count": 18
        }
      ]
    },
    {
      "cell_type": "code",
      "metadata": {
        "id": "5pOiJ3xJbKzR"
      },
      "source": [
        "taxi = taxi.rename (columns ={'pcp 01': 'pcp_01', \n",
        "                              'pcp 06': 'pcp_06', \n",
        "                              'pcp 24': 'pcp_24'})"
      ],
      "execution_count": 19,
      "outputs": []
    },
    {
      "cell_type": "code",
      "metadata": {
        "colab": {
          "base_uri": "https://localhost:8080/"
        },
        "id": "weF_gePkbK6B",
        "outputId": "6b02fbe8-ac99-4494-d31e-7301eaf5ab9e"
      },
      "source": [
        "#Вас попросили узнать, сколько записей (строк) в датафрейме относятся к району Манхэттен (Manhattan)\n",
        "taxi.query(\"borough == 'Manhattan'\").shape[0]"
      ],
      "execution_count": 20,
      "outputs": [
        {
          "output_type": "execute_result",
          "data": {
            "text/plain": [
              "4343"
            ]
          },
          "metadata": {},
          "execution_count": 20
        }
      ]
    },
    {
      "cell_type": "code",
      "metadata": {
        "colab": {
          "base_uri": "https://localhost:8080/"
        },
        "id": "sQL9869AbLAz",
        "outputId": "cb8db10c-5ad4-489f-98eb-99ac4a949e5a"
      },
      "source": [
        "#А если мы хотим посмотреть, сколько раз встречается каждый из районов? \n",
        "\n",
        "taxi['borough'].value_counts()"
      ],
      "execution_count": 21,
      "outputs": [
        {
          "output_type": "execute_result",
          "data": {
            "text/plain": [
              "Manhattan        4343\n",
              "Staten Island    4343\n",
              "Queens           4343\n",
              "Bronx            4343\n",
              "Brooklyn         4343\n",
              "EWR              4343\n",
              "Name: borough, dtype: int64"
            ]
          },
          "metadata": {},
          "execution_count": 21
        }
      ]
    },
    {
      "cell_type": "code",
      "metadata": {
        "colab": {
          "base_uri": "https://localhost:8080/"
        },
        "id": "nYm7aFwBe7y_",
        "outputId": "d963da4c-850e-4404-8e52-2a08636f3b7f"
      },
      "source": [
        "#Для начала, посчитайте общее количество поездок (pickups), без группировки.\n",
        "\n",
        "taxi.pickups.sum()"
      ],
      "execution_count": 22,
      "outputs": [
        {
          "output_type": "execute_result",
          "data": {
            "text/plain": [
              "14265773"
            ]
          },
          "metadata": {},
          "execution_count": 22
        }
      ]
    },
    {
      "cell_type": "code",
      "metadata": {
        "colab": {
          "base_uri": "https://localhost:8080/"
        },
        "id": "qbYtv1tdj1Gi",
        "outputId": "ae45d73e-0f62-43ca-8f15-5126bf95cf32"
      },
      "source": [
        "taxi.pickups.mean()"
      ],
      "execution_count": 23,
      "outputs": [
        {
          "output_type": "execute_result",
          "data": {
            "text/plain": [
              "490.2159032335659"
            ]
          },
          "metadata": {},
          "execution_count": 23
        }
      ]
    },
    {
      "cell_type": "code",
      "metadata": {
        "colab": {
          "base_uri": "https://localhost:8080/",
          "height": 235
        },
        "id": "XqW-DnXqbLF4",
        "outputId": "87474442-4ec0-4812-846d-e7564e7a8e77"
      },
      "source": [
        "#выяснить, из какого района было совершено наибольшее количество поездок за весь период. \n",
        "\n",
        "taxi.groupby(['borough'], as_index = False) \\\n",
        "  .aggregate({'pickups':'sum'}) \\\n",
        "  .sort_values('pickups', ascending = False)"
      ],
      "execution_count": 24,
      "outputs": [
        {
          "output_type": "execute_result",
          "data": {
            "text/html": [
              "<div>\n",
              "<style scoped>\n",
              "    .dataframe tbody tr th:only-of-type {\n",
              "        vertical-align: middle;\n",
              "    }\n",
              "\n",
              "    .dataframe tbody tr th {\n",
              "        vertical-align: top;\n",
              "    }\n",
              "\n",
              "    .dataframe thead th {\n",
              "        text-align: right;\n",
              "    }\n",
              "</style>\n",
              "<table border=\"1\" class=\"dataframe\">\n",
              "  <thead>\n",
              "    <tr style=\"text-align: right;\">\n",
              "      <th></th>\n",
              "      <th>borough</th>\n",
              "      <th>pickups</th>\n",
              "    </tr>\n",
              "  </thead>\n",
              "  <tbody>\n",
              "    <tr>\n",
              "      <th>3</th>\n",
              "      <td>Manhattan</td>\n",
              "      <td>10367841</td>\n",
              "    </tr>\n",
              "    <tr>\n",
              "      <th>1</th>\n",
              "      <td>Brooklyn</td>\n",
              "      <td>2321035</td>\n",
              "    </tr>\n",
              "    <tr>\n",
              "      <th>4</th>\n",
              "      <td>Queens</td>\n",
              "      <td>1343528</td>\n",
              "    </tr>\n",
              "    <tr>\n",
              "      <th>0</th>\n",
              "      <td>Bronx</td>\n",
              "      <td>220047</td>\n",
              "    </tr>\n",
              "    <tr>\n",
              "      <th>5</th>\n",
              "      <td>Staten Island</td>\n",
              "      <td>6957</td>\n",
              "    </tr>\n",
              "    <tr>\n",
              "      <th>2</th>\n",
              "      <td>EWR</td>\n",
              "      <td>105</td>\n",
              "    </tr>\n",
              "  </tbody>\n",
              "</table>\n",
              "</div>"
            ],
            "text/plain": [
              "         borough   pickups\n",
              "3      Manhattan  10367841\n",
              "1       Brooklyn   2321035\n",
              "4         Queens   1343528\n",
              "0          Bronx    220047\n",
              "5  Staten Island      6957\n",
              "2            EWR       105"
            ]
          },
          "metadata": {},
          "execution_count": 24
        }
      ]
    },
    {
      "cell_type": "code",
      "metadata": {
        "id": "sELubD2TbLLE"
      },
      "source": [
        "#Сохраните название района с наименьшим числом поездок в переменную min_pickups, применив подходящий метод\n",
        "\n",
        "s = taxi.groupby(['borough']) \\\n",
        "  .aggregate({'pickups':'sum'})\n",
        "\n",
        "min_pickups = s.pickups.idxmin()"
      ],
      "execution_count": 25,
      "outputs": []
    },
    {
      "cell_type": "code",
      "metadata": {
        "colab": {
          "base_uri": "https://localhost:8080/",
          "height": 452
        },
        "id": "e_wWCXK7aPzl",
        "outputId": "1d24e7a8-d45d-4a99-cc40-5f2d0ec87b1e"
      },
      "source": [
        "#Продолжим изучение данных и посмотрим на число поездок в выходные дни. \n",
        "#Сгруппируйте данные по двум признакам: району города и является ли день выходным (колонки borough и hday). \n",
        "#Сравните среднее число поездок, и выберите районы, из которых по праздникам в среднем поступает больше заказов, чем в обычные дни. \n",
        "\n",
        "taxi.groupby(['borough', 'hday']) \\\n",
        "  .aggregate({'pickups':'mean'}) \n",
        "\n",
        "#EWR, Queens"
      ],
      "execution_count": 28,
      "outputs": [
        {
          "output_type": "execute_result",
          "data": {
            "text/html": [
              "<div>\n",
              "<style scoped>\n",
              "    .dataframe tbody tr th:only-of-type {\n",
              "        vertical-align: middle;\n",
              "    }\n",
              "\n",
              "    .dataframe tbody tr th {\n",
              "        vertical-align: top;\n",
              "    }\n",
              "\n",
              "    .dataframe thead th {\n",
              "        text-align: right;\n",
              "    }\n",
              "</style>\n",
              "<table border=\"1\" class=\"dataframe\">\n",
              "  <thead>\n",
              "    <tr style=\"text-align: right;\">\n",
              "      <th></th>\n",
              "      <th></th>\n",
              "      <th>pickups</th>\n",
              "    </tr>\n",
              "    <tr>\n",
              "      <th>borough</th>\n",
              "      <th>hday</th>\n",
              "      <th></th>\n",
              "    </tr>\n",
              "  </thead>\n",
              "  <tbody>\n",
              "    <tr>\n",
              "      <th rowspan=\"2\" valign=\"top\">Bronx</th>\n",
              "      <th>N</th>\n",
              "      <td>50.771073</td>\n",
              "    </tr>\n",
              "    <tr>\n",
              "      <th>Y</th>\n",
              "      <td>48.065868</td>\n",
              "    </tr>\n",
              "    <tr>\n",
              "      <th rowspan=\"2\" valign=\"top\">Brooklyn</th>\n",
              "      <th>N</th>\n",
              "      <td>534.727969</td>\n",
              "    </tr>\n",
              "    <tr>\n",
              "      <th>Y</th>\n",
              "      <td>527.011976</td>\n",
              "    </tr>\n",
              "    <tr>\n",
              "      <th rowspan=\"2\" valign=\"top\">EWR</th>\n",
              "      <th>N</th>\n",
              "      <td>0.023467</td>\n",
              "    </tr>\n",
              "    <tr>\n",
              "      <th>Y</th>\n",
              "      <td>0.041916</td>\n",
              "    </tr>\n",
              "    <tr>\n",
              "      <th rowspan=\"2\" valign=\"top\">Manhattan</th>\n",
              "      <th>N</th>\n",
              "      <td>2401.302921</td>\n",
              "    </tr>\n",
              "    <tr>\n",
              "      <th>Y</th>\n",
              "      <td>2035.928144</td>\n",
              "    </tr>\n",
              "    <tr>\n",
              "      <th rowspan=\"2\" valign=\"top\">Queens</th>\n",
              "      <th>N</th>\n",
              "      <td>308.899904</td>\n",
              "    </tr>\n",
              "    <tr>\n",
              "      <th>Y</th>\n",
              "      <td>320.730539</td>\n",
              "    </tr>\n",
              "    <tr>\n",
              "      <th rowspan=\"2\" valign=\"top\">Staten Island</th>\n",
              "      <th>N</th>\n",
              "      <td>1.606082</td>\n",
              "    </tr>\n",
              "    <tr>\n",
              "      <th>Y</th>\n",
              "      <td>1.497006</td>\n",
              "    </tr>\n",
              "  </tbody>\n",
              "</table>\n",
              "</div>"
            ],
            "text/plain": [
              "                        pickups\n",
              "borough       hday             \n",
              "Bronx         N       50.771073\n",
              "              Y       48.065868\n",
              "Brooklyn      N      534.727969\n",
              "              Y      527.011976\n",
              "EWR           N        0.023467\n",
              "              Y        0.041916\n",
              "Manhattan     N     2401.302921\n",
              "              Y     2035.928144\n",
              "Queens        N      308.899904\n",
              "              Y      320.730539\n",
              "Staten Island N        1.606082\n",
              "              Y        1.497006"
            ]
          },
          "metadata": {},
          "execution_count": 28
        }
      ]
    },
    {
      "cell_type": "code",
      "metadata": {
        "id": "2M6VksxXaP3O"
      },
      "source": [
        "#Для каждого района посчитайте число поездок по месяцам. Отсортируйте полученные значения по убыванию и \n",
        "#сохраните результирующий датафрейм в pickups_by_mon_bor.\n",
        "#Обратите внимание, что итоговый датасет должен состоять из 3-х колонок - pickup_month, borough, pickups.\n",
        "\n",
        "pickups_by_mon_bor = taxi.groupby(['borough', 'pickup_month'], as_index = False) \\\n",
        "  .aggregate({'pickups':'sum'}) \\\n",
        "  .sort_values('pickups', ascending = False)"
      ],
      "execution_count": 29,
      "outputs": []
    },
    {
      "cell_type": "code",
      "metadata": {
        "colab": {
          "base_uri": "https://localhost:8080/",
          "height": 1000
        },
        "id": "SHcANnmYmDXM",
        "outputId": "2fe47eb3-c8a0-43b3-9c68-6985eedef5ed"
      },
      "source": [
        "pickups_by_mon_bor"
      ],
      "execution_count": 30,
      "outputs": [
        {
          "output_type": "execute_result",
          "data": {
            "text/html": [
              "<div>\n",
              "<style scoped>\n",
              "    .dataframe tbody tr th:only-of-type {\n",
              "        vertical-align: middle;\n",
              "    }\n",
              "\n",
              "    .dataframe tbody tr th {\n",
              "        vertical-align: top;\n",
              "    }\n",
              "\n",
              "    .dataframe thead th {\n",
              "        text-align: right;\n",
              "    }\n",
              "</style>\n",
              "<table border=\"1\" class=\"dataframe\">\n",
              "  <thead>\n",
              "    <tr style=\"text-align: right;\">\n",
              "      <th></th>\n",
              "      <th>borough</th>\n",
              "      <th>pickup_month</th>\n",
              "      <th>pickups</th>\n",
              "    </tr>\n",
              "  </thead>\n",
              "  <tbody>\n",
              "    <tr>\n",
              "      <th>21</th>\n",
              "      <td>Manhattan</td>\n",
              "      <td>Jun</td>\n",
              "      <td>1995388</td>\n",
              "    </tr>\n",
              "    <tr>\n",
              "      <th>23</th>\n",
              "      <td>Manhattan</td>\n",
              "      <td>May</td>\n",
              "      <td>1888800</td>\n",
              "    </tr>\n",
              "    <tr>\n",
              "      <th>19</th>\n",
              "      <td>Manhattan</td>\n",
              "      <td>Feb</td>\n",
              "      <td>1718571</td>\n",
              "    </tr>\n",
              "    <tr>\n",
              "      <th>22</th>\n",
              "      <td>Manhattan</td>\n",
              "      <td>Mar</td>\n",
              "      <td>1661261</td>\n",
              "    </tr>\n",
              "    <tr>\n",
              "      <th>18</th>\n",
              "      <td>Manhattan</td>\n",
              "      <td>Apr</td>\n",
              "      <td>1648278</td>\n",
              "    </tr>\n",
              "    <tr>\n",
              "      <th>20</th>\n",
              "      <td>Manhattan</td>\n",
              "      <td>Jan</td>\n",
              "      <td>1455543</td>\n",
              "    </tr>\n",
              "    <tr>\n",
              "      <th>9</th>\n",
              "      <td>Brooklyn</td>\n",
              "      <td>Jun</td>\n",
              "      <td>482466</td>\n",
              "    </tr>\n",
              "    <tr>\n",
              "      <th>11</th>\n",
              "      <td>Brooklyn</td>\n",
              "      <td>May</td>\n",
              "      <td>476087</td>\n",
              "    </tr>\n",
              "    <tr>\n",
              "      <th>6</th>\n",
              "      <td>Brooklyn</td>\n",
              "      <td>Apr</td>\n",
              "      <td>378095</td>\n",
              "    </tr>\n",
              "    <tr>\n",
              "      <th>10</th>\n",
              "      <td>Brooklyn</td>\n",
              "      <td>Mar</td>\n",
              "      <td>346726</td>\n",
              "    </tr>\n",
              "    <tr>\n",
              "      <th>7</th>\n",
              "      <td>Brooklyn</td>\n",
              "      <td>Feb</td>\n",
              "      <td>328650</td>\n",
              "    </tr>\n",
              "    <tr>\n",
              "      <th>8</th>\n",
              "      <td>Brooklyn</td>\n",
              "      <td>Jan</td>\n",
              "      <td>309011</td>\n",
              "    </tr>\n",
              "    <tr>\n",
              "      <th>27</th>\n",
              "      <td>Queens</td>\n",
              "      <td>Jun</td>\n",
              "      <td>286311</td>\n",
              "    </tr>\n",
              "    <tr>\n",
              "      <th>29</th>\n",
              "      <td>Queens</td>\n",
              "      <td>May</td>\n",
              "      <td>275893</td>\n",
              "    </tr>\n",
              "    <tr>\n",
              "      <th>28</th>\n",
              "      <td>Queens</td>\n",
              "      <td>Mar</td>\n",
              "      <td>219561</td>\n",
              "    </tr>\n",
              "    <tr>\n",
              "      <th>24</th>\n",
              "      <td>Queens</td>\n",
              "      <td>Apr</td>\n",
              "      <td>216857</td>\n",
              "    </tr>\n",
              "    <tr>\n",
              "      <th>25</th>\n",
              "      <td>Queens</td>\n",
              "      <td>Feb</td>\n",
              "      <td>185695</td>\n",
              "    </tr>\n",
              "    <tr>\n",
              "      <th>26</th>\n",
              "      <td>Queens</td>\n",
              "      <td>Jan</td>\n",
              "      <td>159211</td>\n",
              "    </tr>\n",
              "    <tr>\n",
              "      <th>5</th>\n",
              "      <td>Bronx</td>\n",
              "      <td>May</td>\n",
              "      <td>53037</td>\n",
              "    </tr>\n",
              "    <tr>\n",
              "      <th>3</th>\n",
              "      <td>Bronx</td>\n",
              "      <td>Jun</td>\n",
              "      <td>49006</td>\n",
              "    </tr>\n",
              "    <tr>\n",
              "      <th>0</th>\n",
              "      <td>Bronx</td>\n",
              "      <td>Apr</td>\n",
              "      <td>34617</td>\n",
              "    </tr>\n",
              "    <tr>\n",
              "      <th>4</th>\n",
              "      <td>Bronx</td>\n",
              "      <td>Mar</td>\n",
              "      <td>32232</td>\n",
              "    </tr>\n",
              "    <tr>\n",
              "      <th>1</th>\n",
              "      <td>Bronx</td>\n",
              "      <td>Feb</td>\n",
              "      <td>28694</td>\n",
              "    </tr>\n",
              "    <tr>\n",
              "      <th>2</th>\n",
              "      <td>Bronx</td>\n",
              "      <td>Jan</td>\n",
              "      <td>22461</td>\n",
              "    </tr>\n",
              "    <tr>\n",
              "      <th>33</th>\n",
              "      <td>Staten Island</td>\n",
              "      <td>Jun</td>\n",
              "      <td>1673</td>\n",
              "    </tr>\n",
              "    <tr>\n",
              "      <th>35</th>\n",
              "      <td>Staten Island</td>\n",
              "      <td>May</td>\n",
              "      <td>1517</td>\n",
              "    </tr>\n",
              "    <tr>\n",
              "      <th>30</th>\n",
              "      <td>Staten Island</td>\n",
              "      <td>Apr</td>\n",
              "      <td>1068</td>\n",
              "    </tr>\n",
              "    <tr>\n",
              "      <th>34</th>\n",
              "      <td>Staten Island</td>\n",
              "      <td>Mar</td>\n",
              "      <td>975</td>\n",
              "    </tr>\n",
              "    <tr>\n",
              "      <th>31</th>\n",
              "      <td>Staten Island</td>\n",
              "      <td>Feb</td>\n",
              "      <td>903</td>\n",
              "    </tr>\n",
              "    <tr>\n",
              "      <th>32</th>\n",
              "      <td>Staten Island</td>\n",
              "      <td>Jan</td>\n",
              "      <td>821</td>\n",
              "    </tr>\n",
              "    <tr>\n",
              "      <th>15</th>\n",
              "      <td>EWR</td>\n",
              "      <td>Jun</td>\n",
              "      <td>29</td>\n",
              "    </tr>\n",
              "    <tr>\n",
              "      <th>17</th>\n",
              "      <td>EWR</td>\n",
              "      <td>May</td>\n",
              "      <td>27</td>\n",
              "    </tr>\n",
              "    <tr>\n",
              "      <th>16</th>\n",
              "      <td>EWR</td>\n",
              "      <td>Mar</td>\n",
              "      <td>14</td>\n",
              "    </tr>\n",
              "    <tr>\n",
              "      <th>13</th>\n",
              "      <td>EWR</td>\n",
              "      <td>Feb</td>\n",
              "      <td>14</td>\n",
              "    </tr>\n",
              "    <tr>\n",
              "      <th>14</th>\n",
              "      <td>EWR</td>\n",
              "      <td>Jan</td>\n",
              "      <td>11</td>\n",
              "    </tr>\n",
              "    <tr>\n",
              "      <th>12</th>\n",
              "      <td>EWR</td>\n",
              "      <td>Apr</td>\n",
              "      <td>10</td>\n",
              "    </tr>\n",
              "  </tbody>\n",
              "</table>\n",
              "</div>"
            ],
            "text/plain": [
              "          borough pickup_month  pickups\n",
              "21      Manhattan          Jun  1995388\n",
              "23      Manhattan          May  1888800\n",
              "19      Manhattan          Feb  1718571\n",
              "22      Manhattan          Mar  1661261\n",
              "18      Manhattan          Apr  1648278\n",
              "20      Manhattan          Jan  1455543\n",
              "9        Brooklyn          Jun   482466\n",
              "11       Brooklyn          May   476087\n",
              "6        Brooklyn          Apr   378095\n",
              "10       Brooklyn          Mar   346726\n",
              "7        Brooklyn          Feb   328650\n",
              "8        Brooklyn          Jan   309011\n",
              "27         Queens          Jun   286311\n",
              "29         Queens          May   275893\n",
              "28         Queens          Mar   219561\n",
              "24         Queens          Apr   216857\n",
              "25         Queens          Feb   185695\n",
              "26         Queens          Jan   159211\n",
              "5           Bronx          May    53037\n",
              "3           Bronx          Jun    49006\n",
              "0           Bronx          Apr    34617\n",
              "4           Bronx          Mar    32232\n",
              "1           Bronx          Feb    28694\n",
              "2           Bronx          Jan    22461\n",
              "33  Staten Island          Jun     1673\n",
              "35  Staten Island          May     1517\n",
              "30  Staten Island          Apr     1068\n",
              "34  Staten Island          Mar      975\n",
              "31  Staten Island          Feb      903\n",
              "32  Staten Island          Jan      821\n",
              "15            EWR          Jun       29\n",
              "17            EWR          May       27\n",
              "16            EWR          Mar       14\n",
              "13            EWR          Feb       14\n",
              "14            EWR          Jan       11\n",
              "12            EWR          Apr       10"
            ]
          },
          "metadata": {},
          "execution_count": 30
        }
      ]
    },
    {
      "cell_type": "code",
      "metadata": {
        "colab": {
          "base_uri": "https://localhost:8080/"
        },
        "id": "_ofpSxnuqdVO",
        "outputId": "987ba60c-71d1-462a-a5ce-5b5cb5ae625f"
      },
      "source": [
        "taxi.temp.max()"
      ],
      "execution_count": 31,
      "outputs": [
        {
          "output_type": "execute_result",
          "data": {
            "text/plain": [
              "89.0"
            ]
          },
          "metadata": {},
          "execution_count": 31
        }
      ]
    },
    {
      "cell_type": "code",
      "metadata": {
        "id": "xaAsbebsmDbT"
      },
      "source": [
        "def temp_to_celcius(temp):\n",
        "  return (temp - 32) * 5 / 9"
      ],
      "execution_count": 32,
      "outputs": []
    },
    {
      "cell_type": "code",
      "metadata": {
        "colab": {
          "base_uri": "https://localhost:8080/"
        },
        "id": "BY1eicLkmDg1",
        "outputId": "7a24d3e6-ef56-4cb8-a596-3bbbbd8a9f63"
      },
      "source": [
        "temp_to_celcius(taxi.temp)"
      ],
      "execution_count": 33,
      "outputs": [
        {
          "output_type": "execute_result",
          "data": {
            "text/plain": [
              "0        -1.111111\n",
              "1        -1.111111\n",
              "2        -1.111111\n",
              "3        -1.111111\n",
              "4        -1.111111\n",
              "           ...    \n",
              "29096    23.888889\n",
              "29097    23.888889\n",
              "29098    23.888889\n",
              "29099    23.888889\n",
              "29100    23.888889\n",
              "Name: temp, Length: 29101, dtype: float64"
            ]
          },
          "metadata": {},
          "execution_count": 33
        }
      ]
    }
  ]
}