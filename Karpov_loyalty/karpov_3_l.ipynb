{
  "nbformat": 4,
  "nbformat_minor": 0,
  "metadata": {
    "colab": {
      "name": "karpov_3.ipynb",
      "provenance": [],
      "collapsed_sections": []
    },
    "kernelspec": {
      "name": "python3",
      "display_name": "Python 3"
    },
    "language_info": {
      "name": "python"
    }
  },
  "cells": [
    {
      "cell_type": "code",
      "metadata": {
        "id": "JoY21EpwR7hO"
      },
      "source": [
        "import pandas as pd\n",
        "import seaborn as sns\n",
        "import matplotlib.pyplot as plt\n",
        "\n",
        "%matplotlib inline"
      ],
      "execution_count": 55,
      "outputs": []
    },
    {
      "cell_type": "code",
      "metadata": {
        "id": "E3HbUXApKZEK"
      },
      "source": [
        "df = pd.read_csv('/content/lesson_3_data_1_.csv', encoding='windows-1251')"
      ],
      "execution_count": 56,
      "outputs": []
    },
    {
      "cell_type": "code",
      "metadata": {
        "colab": {
          "base_uri": "https://localhost:8080/",
          "height": 411
        },
        "id": "9yJnT0y-KZO6",
        "outputId": "7a4e9f17-4f05-46cf-ee7b-cb255ba00243"
      },
      "source": [
        "df.head()"
      ],
      "execution_count": 57,
      "outputs": [
        {
          "output_type": "execute_result",
          "data": {
            "text/html": [
              "<div>\n",
              "<style scoped>\n",
              "    .dataframe tbody tr th:only-of-type {\n",
              "        vertical-align: middle;\n",
              "    }\n",
              "\n",
              "    .dataframe tbody tr th {\n",
              "        vertical-align: top;\n",
              "    }\n",
              "\n",
              "    .dataframe thead th {\n",
              "        text-align: right;\n",
              "    }\n",
              "</style>\n",
              "<table border=\"1\" class=\"dataframe\">\n",
              "  <thead>\n",
              "    <tr style=\"text-align: right;\">\n",
              "      <th></th>\n",
              "      <th>Unnamed: 0</th>\n",
              "      <th>tk</th>\n",
              "      <th>pl</th>\n",
              "      <th>dia</th>\n",
              "      <th>hs</th>\n",
              "      <th>tc</th>\n",
              "      <th>cta</th>\n",
              "      <th>id_art</th>\n",
              "      <th>id_subsubfam</th>\n",
              "      <th>id_subfam</th>\n",
              "      <th>id_fam</th>\n",
              "      <th>id_famn</th>\n",
              "      <th>id_seccion</th>\n",
              "      <th>id_subagr</th>\n",
              "      <th>id_agr</th>\n",
              "      <th>vta</th>\n",
              "      <th>uni</th>\n",
              "      <th>id_artn</th>\n",
              "      <th>art_sp</th>\n",
              "      <th>fam_sp</th>\n",
              "      <th>fam_en</th>\n",
              "    </tr>\n",
              "  </thead>\n",
              "  <tbody>\n",
              "    <tr>\n",
              "      <th>0</th>\n",
              "      <td>1242</td>\n",
              "      <td>120071109002055793</td>\n",
              "      <td>1</td>\n",
              "      <td>2007/11/09</td>\n",
              "      <td>0.505729</td>\n",
              "      <td>110000761</td>\n",
              "      <td>11000076</td>\n",
              "      <td>21895</td>\n",
              "      <td>101070640100</td>\n",
              "      <td>1010706401</td>\n",
              "      <td>10107064</td>\n",
              "      <td>10107064</td>\n",
              "      <td>10107</td>\n",
              "      <td>101</td>\n",
              "      <td>1</td>\n",
              "      <td>0.68</td>\n",
              "      <td>1.0</td>\n",
              "      <td>21895</td>\n",
              "      <td>MARAVILLA        500 G Store_Brand</td>\n",
              "      <td>PASTA ALIMENTICIA SE</td>\n",
              "      <td>pasta</td>\n",
              "    </tr>\n",
              "    <tr>\n",
              "      <th>1</th>\n",
              "      <td>1243</td>\n",
              "      <td>120070601004053633</td>\n",
              "      <td>1</td>\n",
              "      <td>2007/06/01</td>\n",
              "      <td>0.588519</td>\n",
              "      <td>110000761</td>\n",
              "      <td>11000076</td>\n",
              "      <td>21816</td>\n",
              "      <td>101070640100</td>\n",
              "      <td>1010706401</td>\n",
              "      <td>10107064</td>\n",
              "      <td>10107064</td>\n",
              "      <td>10107</td>\n",
              "      <td>101</td>\n",
              "      <td>1</td>\n",
              "      <td>0.38</td>\n",
              "      <td>1.0</td>\n",
              "      <td>21816</td>\n",
              "      <td>FIDEO CABELLIN   500 G Store_Brand</td>\n",
              "      <td>PASTA ALIMENTICIA SE</td>\n",
              "      <td>pasta</td>\n",
              "    </tr>\n",
              "    <tr>\n",
              "      <th>2</th>\n",
              "      <td>1244</td>\n",
              "      <td>120070928004076410</td>\n",
              "      <td>1</td>\n",
              "      <td>2007/09/28</td>\n",
              "      <td>0.785498</td>\n",
              "      <td>28491841</td>\n",
              "      <td>2849184</td>\n",
              "      <td>562840</td>\n",
              "      <td>101070640100</td>\n",
              "      <td>1010706401</td>\n",
              "      <td>10107064</td>\n",
              "      <td>10107064</td>\n",
              "      <td>10107</td>\n",
              "      <td>101</td>\n",
              "      <td>1</td>\n",
              "      <td>1.55</td>\n",
              "      <td>2.0</td>\n",
              "      <td>562840</td>\n",
              "      <td>SPAGUETTI Nє 5 500 G Brand_1</td>\n",
              "      <td>PASTA ALIMENTICIA SE</td>\n",
              "      <td>pasta</td>\n",
              "    </tr>\n",
              "    <tr>\n",
              "      <th>3</th>\n",
              "      <td>1245</td>\n",
              "      <td>120070616003074261</td>\n",
              "      <td>1</td>\n",
              "      <td>2007/06/16</td>\n",
              "      <td>0.550961</td>\n",
              "      <td>95931501</td>\n",
              "      <td>9593150</td>\n",
              "      <td>28914</td>\n",
              "      <td>101070640100</td>\n",
              "      <td>1010706401</td>\n",
              "      <td>10107064</td>\n",
              "      <td>10107064</td>\n",
              "      <td>10107</td>\n",
              "      <td>101</td>\n",
              "      <td>1</td>\n",
              "      <td>1.03</td>\n",
              "      <td>2.0</td>\n",
              "      <td>28914</td>\n",
              "      <td>FIDEO FIDEUБ      500 Brand_7</td>\n",
              "      <td>PASTA ALIMENTICIA SE</td>\n",
              "      <td>pasta</td>\n",
              "    </tr>\n",
              "    <tr>\n",
              "      <th>4</th>\n",
              "      <td>1246</td>\n",
              "      <td>120070519001018477</td>\n",
              "      <td>1</td>\n",
              "      <td>2007/05/19</td>\n",
              "      <td>0.804954</td>\n",
              "      <td>93265591</td>\n",
              "      <td>9326559</td>\n",
              "      <td>159867</td>\n",
              "      <td>101070640100</td>\n",
              "      <td>1010706401</td>\n",
              "      <td>10107064</td>\n",
              "      <td>10107064</td>\n",
              "      <td>10107</td>\n",
              "      <td>101</td>\n",
              "      <td>1</td>\n",
              "      <td>1.09</td>\n",
              "      <td>1.0</td>\n",
              "      <td>159867</td>\n",
              "      <td>MACARRONES  GRATINAR 5 Brand_2</td>\n",
              "      <td>PASTA ALIMENTICIA SE</td>\n",
              "      <td>pasta</td>\n",
              "    </tr>\n",
              "  </tbody>\n",
              "</table>\n",
              "</div>"
            ],
            "text/plain": [
              "   Unnamed: 0                  tk  ...                fam_sp fam_en\n",
              "0        1242  120071109002055793  ...  PASTA ALIMENTICIA SE  pasta\n",
              "1        1243  120070601004053633  ...  PASTA ALIMENTICIA SE  pasta\n",
              "2        1244  120070928004076410  ...  PASTA ALIMENTICIA SE  pasta\n",
              "3        1245  120070616003074261  ...  PASTA ALIMENTICIA SE  pasta\n",
              "4        1246  120070519001018477  ...  PASTA ALIMENTICIA SE  pasta\n",
              "\n",
              "[5 rows x 21 columns]"
            ]
          },
          "metadata": {},
          "execution_count": 57
        }
      ]
    },
    {
      "cell_type": "code",
      "metadata": {
        "id": "gXAFEfLpKZWh"
      },
      "source": [
        "#выбираем id и назввание продукта\n",
        "user_df = df[[\"tc\", 'art_sp']]"
      ],
      "execution_count": 58,
      "outputs": []
    },
    {
      "cell_type": "code",
      "metadata": {
        "colab": {
          "base_uri": "https://localhost:8080/",
          "height": 419
        },
        "id": "dJdW-szHKZeB",
        "outputId": "8d223f4b-d294-4cd7-8897-c1f0f448db6b"
      },
      "source": [
        "user_df"
      ],
      "execution_count": 59,
      "outputs": [
        {
          "output_type": "execute_result",
          "data": {
            "text/html": [
              "<div>\n",
              "<style scoped>\n",
              "    .dataframe tbody tr th:only-of-type {\n",
              "        vertical-align: middle;\n",
              "    }\n",
              "\n",
              "    .dataframe tbody tr th {\n",
              "        vertical-align: top;\n",
              "    }\n",
              "\n",
              "    .dataframe thead th {\n",
              "        text-align: right;\n",
              "    }\n",
              "</style>\n",
              "<table border=\"1\" class=\"dataframe\">\n",
              "  <thead>\n",
              "    <tr style=\"text-align: right;\">\n",
              "      <th></th>\n",
              "      <th>tc</th>\n",
              "      <th>art_sp</th>\n",
              "    </tr>\n",
              "  </thead>\n",
              "  <tbody>\n",
              "    <tr>\n",
              "      <th>0</th>\n",
              "      <td>110000761</td>\n",
              "      <td>MARAVILLA        500 G Store_Brand</td>\n",
              "    </tr>\n",
              "    <tr>\n",
              "      <th>1</th>\n",
              "      <td>110000761</td>\n",
              "      <td>FIDEO CABELLIN   500 G Store_Brand</td>\n",
              "    </tr>\n",
              "    <tr>\n",
              "      <th>2</th>\n",
              "      <td>28491841</td>\n",
              "      <td>SPAGUETTI Nє 5 500 G Brand_1</td>\n",
              "    </tr>\n",
              "    <tr>\n",
              "      <th>3</th>\n",
              "      <td>95931501</td>\n",
              "      <td>FIDEO FIDEUБ      500 Brand_7</td>\n",
              "    </tr>\n",
              "    <tr>\n",
              "      <th>4</th>\n",
              "      <td>93265591</td>\n",
              "      <td>MACARRONES  GRATINAR 5 Brand_2</td>\n",
              "    </tr>\n",
              "    <tr>\n",
              "      <th>...</th>\n",
              "      <td>...</td>\n",
              "      <td>...</td>\n",
              "    </tr>\n",
              "    <tr>\n",
              "      <th>48124</th>\n",
              "      <td>45518841</td>\n",
              "      <td>FIDEOS 0         500 G Brand_4</td>\n",
              "    </tr>\n",
              "    <tr>\n",
              "      <th>48125</th>\n",
              "      <td>110824211</td>\n",
              "      <td>PLUMAS 3         500 G Brand_4</td>\n",
              "    </tr>\n",
              "    <tr>\n",
              "      <th>48126</th>\n",
              "      <td>1408670389</td>\n",
              "      <td>MACARRONES       500 G Store_Brand</td>\n",
              "    </tr>\n",
              "    <tr>\n",
              "      <th>48127</th>\n",
              "      <td>1408670389</td>\n",
              "      <td>SPAGHETTI        500 G Store_Brand</td>\n",
              "    </tr>\n",
              "    <tr>\n",
              "      <th>48128</th>\n",
              "      <td>48582221</td>\n",
              "      <td>SPAGHETTINI      500 G Store_Brand</td>\n",
              "    </tr>\n",
              "  </tbody>\n",
              "</table>\n",
              "<p>48129 rows × 2 columns</p>\n",
              "</div>"
            ],
            "text/plain": [
              "               tc                              art_sp\n",
              "0       110000761  MARAVILLA        500 G Store_Brand\n",
              "1       110000761  FIDEO CABELLIN   500 G Store_Brand\n",
              "2        28491841        SPAGUETTI Nє 5 500 G Brand_1\n",
              "3        95931501       FIDEO FIDEUБ      500 Brand_7\n",
              "4        93265591      MACARRONES  GRATINAR 5 Brand_2\n",
              "...           ...                                 ...\n",
              "48124    45518841      FIDEOS 0         500 G Brand_4\n",
              "48125   110824211      PLUMAS 3         500 G Brand_4\n",
              "48126  1408670389  MACARRONES       500 G Store_Brand\n",
              "48127  1408670389  SPAGHETTI        500 G Store_Brand\n",
              "48128    48582221  SPAGHETTINI      500 G Store_Brand\n",
              "\n",
              "[48129 rows x 2 columns]"
            ]
          },
          "metadata": {},
          "execution_count": 59
        }
      ]
    },
    {
      "cell_type": "code",
      "metadata": {
        "id": "1f2qPsG0KZmO"
      },
      "source": [
        "user_df = user_df.rename(columns={'tc': 'user_id',\n",
        "                                  'art_sp':'brand_info'})"
      ],
      "execution_count": 60,
      "outputs": []
    },
    {
      "cell_type": "code",
      "metadata": {
        "colab": {
          "base_uri": "https://localhost:8080/",
          "height": 204
        },
        "id": "GUd0-DsTPEkZ",
        "outputId": "c654397f-2a8a-4120-e181-8de63ed2f180"
      },
      "source": [
        "user_df.head()"
      ],
      "execution_count": 61,
      "outputs": [
        {
          "output_type": "execute_result",
          "data": {
            "text/html": [
              "<div>\n",
              "<style scoped>\n",
              "    .dataframe tbody tr th:only-of-type {\n",
              "        vertical-align: middle;\n",
              "    }\n",
              "\n",
              "    .dataframe tbody tr th {\n",
              "        vertical-align: top;\n",
              "    }\n",
              "\n",
              "    .dataframe thead th {\n",
              "        text-align: right;\n",
              "    }\n",
              "</style>\n",
              "<table border=\"1\" class=\"dataframe\">\n",
              "  <thead>\n",
              "    <tr style=\"text-align: right;\">\n",
              "      <th></th>\n",
              "      <th>user_id</th>\n",
              "      <th>brand_info</th>\n",
              "    </tr>\n",
              "  </thead>\n",
              "  <tbody>\n",
              "    <tr>\n",
              "      <th>0</th>\n",
              "      <td>110000761</td>\n",
              "      <td>MARAVILLA        500 G Store_Brand</td>\n",
              "    </tr>\n",
              "    <tr>\n",
              "      <th>1</th>\n",
              "      <td>110000761</td>\n",
              "      <td>FIDEO CABELLIN   500 G Store_Brand</td>\n",
              "    </tr>\n",
              "    <tr>\n",
              "      <th>2</th>\n",
              "      <td>28491841</td>\n",
              "      <td>SPAGUETTI Nє 5 500 G Brand_1</td>\n",
              "    </tr>\n",
              "    <tr>\n",
              "      <th>3</th>\n",
              "      <td>95931501</td>\n",
              "      <td>FIDEO FIDEUБ      500 Brand_7</td>\n",
              "    </tr>\n",
              "    <tr>\n",
              "      <th>4</th>\n",
              "      <td>93265591</td>\n",
              "      <td>MACARRONES  GRATINAR 5 Brand_2</td>\n",
              "    </tr>\n",
              "  </tbody>\n",
              "</table>\n",
              "</div>"
            ],
            "text/plain": [
              "     user_id                          brand_info\n",
              "0  110000761  MARAVILLA        500 G Store_Brand\n",
              "1  110000761  FIDEO CABELLIN   500 G Store_Brand\n",
              "2   28491841        SPAGUETTI Nє 5 500 G Brand_1\n",
              "3   95931501       FIDEO FIDEUБ      500 Brand_7\n",
              "4   93265591      MACARRONES  GRATINAR 5 Brand_2"
            ]
          },
          "metadata": {},
          "execution_count": 61
        }
      ]
    },
    {
      "cell_type": "code",
      "metadata": {
        "id": "tqkFXcnIPE_K"
      },
      "source": [
        "#вынимаем имя бренда из названия\n",
        "def split_brand(brand_name_data):\n",
        "  return brand_name_data.split()[-1]"
      ],
      "execution_count": 62,
      "outputs": []
    },
    {
      "cell_type": "code",
      "metadata": {
        "id": "IoNrPaJlPEtw"
      },
      "source": [
        "brand_name = 'MARAVILLA 500 G Store_Brand'"
      ],
      "execution_count": 63,
      "outputs": []
    },
    {
      "cell_type": "code",
      "metadata": {
        "id": "gQUcPdDxPE3s"
      },
      "source": [
        "user_df[\"brand_name\"] = user_df.brand_info.apply(split_brand)"
      ],
      "execution_count": 64,
      "outputs": []
    },
    {
      "cell_type": "code",
      "metadata": {
        "colab": {
          "base_uri": "https://localhost:8080/",
          "height": 204
        },
        "id": "aKmlbK7IPFEg",
        "outputId": "d7f00190-282c-4596-fd8c-e4922faa2f02"
      },
      "source": [
        "user_df.head()"
      ],
      "execution_count": 65,
      "outputs": [
        {
          "output_type": "execute_result",
          "data": {
            "text/html": [
              "<div>\n",
              "<style scoped>\n",
              "    .dataframe tbody tr th:only-of-type {\n",
              "        vertical-align: middle;\n",
              "    }\n",
              "\n",
              "    .dataframe tbody tr th {\n",
              "        vertical-align: top;\n",
              "    }\n",
              "\n",
              "    .dataframe thead th {\n",
              "        text-align: right;\n",
              "    }\n",
              "</style>\n",
              "<table border=\"1\" class=\"dataframe\">\n",
              "  <thead>\n",
              "    <tr style=\"text-align: right;\">\n",
              "      <th></th>\n",
              "      <th>user_id</th>\n",
              "      <th>brand_info</th>\n",
              "      <th>brand_name</th>\n",
              "    </tr>\n",
              "  </thead>\n",
              "  <tbody>\n",
              "    <tr>\n",
              "      <th>0</th>\n",
              "      <td>110000761</td>\n",
              "      <td>MARAVILLA        500 G Store_Brand</td>\n",
              "      <td>Store_Brand</td>\n",
              "    </tr>\n",
              "    <tr>\n",
              "      <th>1</th>\n",
              "      <td>110000761</td>\n",
              "      <td>FIDEO CABELLIN   500 G Store_Brand</td>\n",
              "      <td>Store_Brand</td>\n",
              "    </tr>\n",
              "    <tr>\n",
              "      <th>2</th>\n",
              "      <td>28491841</td>\n",
              "      <td>SPAGUETTI Nє 5 500 G Brand_1</td>\n",
              "      <td>Brand_1</td>\n",
              "    </tr>\n",
              "    <tr>\n",
              "      <th>3</th>\n",
              "      <td>95931501</td>\n",
              "      <td>FIDEO FIDEUБ      500 Brand_7</td>\n",
              "      <td>Brand_7</td>\n",
              "    </tr>\n",
              "    <tr>\n",
              "      <th>4</th>\n",
              "      <td>93265591</td>\n",
              "      <td>MACARRONES  GRATINAR 5 Brand_2</td>\n",
              "      <td>Brand_2</td>\n",
              "    </tr>\n",
              "  </tbody>\n",
              "</table>\n",
              "</div>"
            ],
            "text/plain": [
              "     user_id                          brand_info   brand_name\n",
              "0  110000761  MARAVILLA        500 G Store_Brand  Store_Brand\n",
              "1  110000761  FIDEO CABELLIN   500 G Store_Brand  Store_Brand\n",
              "2   28491841        SPAGUETTI Nє 5 500 G Brand_1      Brand_1\n",
              "3   95931501       FIDEO FIDEUБ      500 Brand_7      Brand_7\n",
              "4   93265591      MACARRONES  GRATINAR 5 Brand_2      Brand_2"
            ]
          },
          "metadata": {},
          "execution_count": 65
        }
      ]
    },
    {
      "cell_type": "code",
      "metadata": {
        "id": "VI_NbGSoPFLI"
      },
      "source": [
        "# user_df.brand_info.apply(lambda x: x.split()[-1])"
      ],
      "execution_count": 66,
      "outputs": []
    },
    {
      "cell_type": "code",
      "metadata": {
        "id": "DbSlKO8mPFQi"
      },
      "source": [
        "#количество покупок каждого поситителя\n",
        "user_purchases = user_df.groupby('user_id', as_index = False)\\\n",
        "  .agg({'brand_name': 'count'})\\\n",
        "  .rename(columns = {'brand_name':'purchases'})"
      ],
      "execution_count": 67,
      "outputs": []
    },
    {
      "cell_type": "code",
      "metadata": {
        "colab": {
          "base_uri": "https://localhost:8080/",
          "height": 419
        },
        "id": "RG2cbqvUVpgH",
        "outputId": "cad82de9-7bcb-4765-b5c8-5a76b5689164"
      },
      "source": [
        "user_purchases"
      ],
      "execution_count": 68,
      "outputs": [
        {
          "output_type": "execute_result",
          "data": {
            "text/html": [
              "<div>\n",
              "<style scoped>\n",
              "    .dataframe tbody tr th:only-of-type {\n",
              "        vertical-align: middle;\n",
              "    }\n",
              "\n",
              "    .dataframe tbody tr th {\n",
              "        vertical-align: top;\n",
              "    }\n",
              "\n",
              "    .dataframe thead th {\n",
              "        text-align: right;\n",
              "    }\n",
              "</style>\n",
              "<table border=\"1\" class=\"dataframe\">\n",
              "  <thead>\n",
              "    <tr style=\"text-align: right;\">\n",
              "      <th></th>\n",
              "      <th>user_id</th>\n",
              "      <th>purchases</th>\n",
              "    </tr>\n",
              "  </thead>\n",
              "  <tbody>\n",
              "    <tr>\n",
              "      <th>0</th>\n",
              "      <td>-1236394515</td>\n",
              "      <td>1</td>\n",
              "    </tr>\n",
              "    <tr>\n",
              "      <th>1</th>\n",
              "      <td>1031</td>\n",
              "      <td>6</td>\n",
              "    </tr>\n",
              "    <tr>\n",
              "      <th>2</th>\n",
              "      <td>4241</td>\n",
              "      <td>5</td>\n",
              "    </tr>\n",
              "    <tr>\n",
              "      <th>3</th>\n",
              "      <td>17311</td>\n",
              "      <td>2</td>\n",
              "    </tr>\n",
              "    <tr>\n",
              "      <th>4</th>\n",
              "      <td>17312</td>\n",
              "      <td>2</td>\n",
              "    </tr>\n",
              "    <tr>\n",
              "      <th>...</th>\n",
              "      <td>...</td>\n",
              "      <td>...</td>\n",
              "    </tr>\n",
              "    <tr>\n",
              "      <th>11759</th>\n",
              "      <td>1408817589</td>\n",
              "      <td>3</td>\n",
              "    </tr>\n",
              "    <tr>\n",
              "      <th>11760</th>\n",
              "      <td>1408825059</td>\n",
              "      <td>1</td>\n",
              "    </tr>\n",
              "    <tr>\n",
              "      <th>11761</th>\n",
              "      <td>1408832719</td>\n",
              "      <td>3</td>\n",
              "    </tr>\n",
              "    <tr>\n",
              "      <th>11762</th>\n",
              "      <td>1408840919</td>\n",
              "      <td>1</td>\n",
              "    </tr>\n",
              "    <tr>\n",
              "      <th>11763</th>\n",
              "      <td>1408849249</td>\n",
              "      <td>1</td>\n",
              "    </tr>\n",
              "  </tbody>\n",
              "</table>\n",
              "<p>11764 rows × 2 columns</p>\n",
              "</div>"
            ],
            "text/plain": [
              "          user_id  purchases\n",
              "0     -1236394515          1\n",
              "1            1031          6\n",
              "2            4241          5\n",
              "3           17311          2\n",
              "4           17312          2\n",
              "...           ...        ...\n",
              "11759  1408817589          3\n",
              "11760  1408825059          1\n",
              "11761  1408832719          3\n",
              "11762  1408840919          1\n",
              "11763  1408849249          1\n",
              "\n",
              "[11764 rows x 2 columns]"
            ]
          },
          "metadata": {},
          "execution_count": 68
        }
      ]
    },
    {
      "cell_type": "code",
      "source": [
        "#лояльные покупатели - те, которые сделали много покупок. отнесем к ним тех, у кого количество покупок в районе третьего квартиля - 5 покупок\n",
        "user_purchases.describe()"
      ],
      "metadata": {
        "colab": {
          "base_uri": "https://localhost:8080/",
          "height": 297
        },
        "id": "RlYqY9UDNSa2",
        "outputId": "36f6e72e-c4ad-4787-fad3-d74ecec34ceb"
      },
      "execution_count": 69,
      "outputs": [
        {
          "output_type": "execute_result",
          "data": {
            "text/html": [
              "<div>\n",
              "<style scoped>\n",
              "    .dataframe tbody tr th:only-of-type {\n",
              "        vertical-align: middle;\n",
              "    }\n",
              "\n",
              "    .dataframe tbody tr th {\n",
              "        vertical-align: top;\n",
              "    }\n",
              "\n",
              "    .dataframe thead th {\n",
              "        text-align: right;\n",
              "    }\n",
              "</style>\n",
              "<table border=\"1\" class=\"dataframe\">\n",
              "  <thead>\n",
              "    <tr style=\"text-align: right;\">\n",
              "      <th></th>\n",
              "      <th>user_id</th>\n",
              "      <th>purchases</th>\n",
              "    </tr>\n",
              "  </thead>\n",
              "  <tbody>\n",
              "    <tr>\n",
              "      <th>count</th>\n",
              "      <td>1.176400e+04</td>\n",
              "      <td>11764.000000</td>\n",
              "    </tr>\n",
              "    <tr>\n",
              "      <th>mean</th>\n",
              "      <td>7.690517e+07</td>\n",
              "      <td>4.091210</td>\n",
              "    </tr>\n",
              "    <tr>\n",
              "      <th>std</th>\n",
              "      <td>1.622210e+08</td>\n",
              "      <td>4.573143</td>\n",
              "    </tr>\n",
              "    <tr>\n",
              "      <th>min</th>\n",
              "      <td>-1.236395e+09</td>\n",
              "      <td>1.000000</td>\n",
              "    </tr>\n",
              "    <tr>\n",
              "      <th>25%</th>\n",
              "      <td>1.503761e+07</td>\n",
              "      <td>1.000000</td>\n",
              "    </tr>\n",
              "    <tr>\n",
              "      <th>50%</th>\n",
              "      <td>4.682179e+07</td>\n",
              "      <td>2.000000</td>\n",
              "    </tr>\n",
              "    <tr>\n",
              "      <th>75%</th>\n",
              "      <td>9.311601e+07</td>\n",
              "      <td>5.000000</td>\n",
              "    </tr>\n",
              "    <tr>\n",
              "      <th>max</th>\n",
              "      <td>1.408849e+09</td>\n",
              "      <td>60.000000</td>\n",
              "    </tr>\n",
              "  </tbody>\n",
              "</table>\n",
              "</div>"
            ],
            "text/plain": [
              "            user_id     purchases\n",
              "count  1.176400e+04  11764.000000\n",
              "mean   7.690517e+07      4.091210\n",
              "std    1.622210e+08      4.573143\n",
              "min   -1.236395e+09      1.000000\n",
              "25%    1.503761e+07      1.000000\n",
              "50%    4.682179e+07      2.000000\n",
              "75%    9.311601e+07      5.000000\n",
              "max    1.408849e+09     60.000000"
            ]
          },
          "metadata": {},
          "execution_count": 69
        }
      ]
    },
    {
      "cell_type": "code",
      "source": [
        "#количество покупок каждого поситителя, у которого больше 5 покупок\n",
        "user_purchases = user_df.groupby('user_id', as_index = False)\\\n",
        "  .agg({'brand_name': 'count'})\\\n",
        "  .rename(columns = {'brand_name':'purchases'})\\\n",
        "  .query('purchases >= 5')"
      ],
      "metadata": {
        "id": "EApyQIrNNDnn"
      },
      "execution_count": 70,
      "outputs": []
    },
    {
      "cell_type": "code",
      "metadata": {
        "colab": {
          "base_uri": "https://localhost:8080/"
        },
        "id": "m7mW5Z3qVpmB",
        "outputId": "e21f7995-567a-4bf3-d714-15cd4d747e21"
      },
      "source": [
        "user_purchases.purchases.median()"
      ],
      "execution_count": 71,
      "outputs": [
        {
          "output_type": "execute_result",
          "data": {
            "text/plain": [
              "7.0"
            ]
          },
          "metadata": {},
          "execution_count": 71
        }
      ]
    },
    {
      "cell_type": "code",
      "metadata": {
        "colab": {
          "base_uri": "https://localhost:8080/"
        },
        "id": "AunvLrAkVpqf",
        "outputId": "a3118849-98cc-496e-9d06-d8c9684e9dbd"
      },
      "source": [
        "user_purchases.shape"
      ],
      "execution_count": 72,
      "outputs": [
        {
          "output_type": "execute_result",
          "data": {
            "text/plain": [
              "(3383, 2)"
            ]
          },
          "metadata": {},
          "execution_count": 72
        }
      ]
    },
    {
      "cell_type": "code",
      "metadata": {
        "colab": {
          "base_uri": "https://localhost:8080/",
          "height": 297
        },
        "id": "EZSJwGqFVpvc",
        "outputId": "b746725e-0a5f-4a97-e492-d5a6615a3d17"
      },
      "source": [
        "user_purchases.describe()"
      ],
      "execution_count": 73,
      "outputs": [
        {
          "output_type": "execute_result",
          "data": {
            "text/html": [
              "<div>\n",
              "<style scoped>\n",
              "    .dataframe tbody tr th:only-of-type {\n",
              "        vertical-align: middle;\n",
              "    }\n",
              "\n",
              "    .dataframe tbody tr th {\n",
              "        vertical-align: top;\n",
              "    }\n",
              "\n",
              "    .dataframe thead th {\n",
              "        text-align: right;\n",
              "    }\n",
              "</style>\n",
              "<table border=\"1\" class=\"dataframe\">\n",
              "  <thead>\n",
              "    <tr style=\"text-align: right;\">\n",
              "      <th></th>\n",
              "      <th>user_id</th>\n",
              "      <th>purchases</th>\n",
              "    </tr>\n",
              "  </thead>\n",
              "  <tbody>\n",
              "    <tr>\n",
              "      <th>count</th>\n",
              "      <td>3.383000e+03</td>\n",
              "      <td>3383.000000</td>\n",
              "    </tr>\n",
              "    <tr>\n",
              "      <th>mean</th>\n",
              "      <td>6.421500e+07</td>\n",
              "      <td>9.320130</td>\n",
              "    </tr>\n",
              "    <tr>\n",
              "      <th>std</th>\n",
              "      <td>1.504830e+08</td>\n",
              "      <td>5.623993</td>\n",
              "    </tr>\n",
              "    <tr>\n",
              "      <th>min</th>\n",
              "      <td>1.031000e+03</td>\n",
              "      <td>5.000000</td>\n",
              "    </tr>\n",
              "    <tr>\n",
              "      <th>25%</th>\n",
              "      <td>8.871271e+06</td>\n",
              "      <td>6.000000</td>\n",
              "    </tr>\n",
              "    <tr>\n",
              "      <th>50%</th>\n",
              "      <td>2.842547e+07</td>\n",
              "      <td>7.000000</td>\n",
              "    </tr>\n",
              "    <tr>\n",
              "      <th>75%</th>\n",
              "      <td>8.542964e+07</td>\n",
              "      <td>11.000000</td>\n",
              "    </tr>\n",
              "    <tr>\n",
              "      <th>max</th>\n",
              "      <td>1.408810e+09</td>\n",
              "      <td>60.000000</td>\n",
              "    </tr>\n",
              "  </tbody>\n",
              "</table>\n",
              "</div>"
            ],
            "text/plain": [
              "            user_id    purchases\n",
              "count  3.383000e+03  3383.000000\n",
              "mean   6.421500e+07     9.320130\n",
              "std    1.504830e+08     5.623993\n",
              "min    1.031000e+03     5.000000\n",
              "25%    8.871271e+06     6.000000\n",
              "50%    2.842547e+07     7.000000\n",
              "75%    8.542964e+07    11.000000\n",
              "max    1.408810e+09    60.000000"
            ]
          },
          "metadata": {},
          "execution_count": 73
        }
      ]
    },
    {
      "cell_type": "code",
      "metadata": {
        "colab": {
          "base_uri": "https://localhost:8080/"
        },
        "id": "CmdKGs5U-RqC",
        "outputId": "7e0c0fce-0b55-4d7f-b825-9f28fd565b70"
      },
      "source": [
        "#выбираем количество уникальных покупок\n",
        "user_purchases.nunique()"
      ],
      "execution_count": 74,
      "outputs": [
        {
          "output_type": "execute_result",
          "data": {
            "text/plain": [
              "user_id      3383\n",
              "purchases      45\n",
              "dtype: int64"
            ]
          },
          "metadata": {},
          "execution_count": 74
        }
      ]
    },
    {
      "cell_type": "code",
      "metadata": {
        "id": "jpBV-jWMVpzc"
      },
      "source": [
        "#выбираем люимый бренд\n",
        "lovely_brand_purchases_df = user_df.groupby(['user_id', 'brand_name'], as_index = False)\\\n",
        "  .agg({'brand_info': 'count'})\\\n",
        "  .sort_values(['user_id', 'brand_info'], ascending = [False, False])\\\n",
        "  .groupby('user_id')\\\n",
        "  .head(1)\\\n",
        "  .rename(columns = {'brand_name':'lovely_brand', 'brand_info': 'lovely_brand_purchases'})"
      ],
      "execution_count": 75,
      "outputs": []
    },
    {
      "cell_type": "code",
      "metadata": {
        "id": "FxYz5uNoVql6"
      },
      "source": [
        "#выбираем уникальный бренд\n",
        "users_unique_brands = user_df.groupby('user_id', as_index = False)\\\n",
        "  .agg({'brand_name': pd.Series.nunique})\\\n",
        "  .rename(columns = {'brand_name':'unique_brands'})"
      ],
      "execution_count": 76,
      "outputs": []
    },
    {
      "cell_type": "code",
      "metadata": {
        "id": "EffFyhulVrHf"
      },
      "source": [
        "#соединяем таблицы\n",
        "loyalty_df = user_purchases.merge(users_unique_brands, on = 'user_id', how = \"left\")\\\n",
        "  .merge(lovely_brand_purchases_df, on = 'user_id')"
      ],
      "execution_count": 77,
      "outputs": []
    },
    {
      "cell_type": "code",
      "metadata": {
        "colab": {
          "base_uri": "https://localhost:8080/",
          "height": 204
        },
        "id": "b00CxyZ1VrQI",
        "outputId": "320f7a30-0bbb-42bb-cc01-a4151a92f5bd"
      },
      "source": [
        "loyalty_df.head()"
      ],
      "execution_count": 78,
      "outputs": [
        {
          "output_type": "execute_result",
          "data": {
            "text/html": [
              "<div>\n",
              "<style scoped>\n",
              "    .dataframe tbody tr th:only-of-type {\n",
              "        vertical-align: middle;\n",
              "    }\n",
              "\n",
              "    .dataframe tbody tr th {\n",
              "        vertical-align: top;\n",
              "    }\n",
              "\n",
              "    .dataframe thead th {\n",
              "        text-align: right;\n",
              "    }\n",
              "</style>\n",
              "<table border=\"1\" class=\"dataframe\">\n",
              "  <thead>\n",
              "    <tr style=\"text-align: right;\">\n",
              "      <th></th>\n",
              "      <th>user_id</th>\n",
              "      <th>purchases</th>\n",
              "      <th>unique_brands</th>\n",
              "      <th>lovely_brand</th>\n",
              "      <th>lovely_brand_purchases</th>\n",
              "    </tr>\n",
              "  </thead>\n",
              "  <tbody>\n",
              "    <tr>\n",
              "      <th>0</th>\n",
              "      <td>1031</td>\n",
              "      <td>6</td>\n",
              "      <td>2</td>\n",
              "      <td>Store_Brand</td>\n",
              "      <td>5</td>\n",
              "    </tr>\n",
              "    <tr>\n",
              "      <th>1</th>\n",
              "      <td>4241</td>\n",
              "      <td>5</td>\n",
              "      <td>2</td>\n",
              "      <td>Brand_4</td>\n",
              "      <td>3</td>\n",
              "    </tr>\n",
              "    <tr>\n",
              "      <th>2</th>\n",
              "      <td>25971</td>\n",
              "      <td>7</td>\n",
              "      <td>2</td>\n",
              "      <td>Store_Brand</td>\n",
              "      <td>5</td>\n",
              "    </tr>\n",
              "    <tr>\n",
              "      <th>3</th>\n",
              "      <td>40911</td>\n",
              "      <td>27</td>\n",
              "      <td>5</td>\n",
              "      <td>Brand_4</td>\n",
              "      <td>19</td>\n",
              "    </tr>\n",
              "    <tr>\n",
              "      <th>4</th>\n",
              "      <td>45181</td>\n",
              "      <td>5</td>\n",
              "      <td>4</td>\n",
              "      <td>Store_Brand</td>\n",
              "      <td>2</td>\n",
              "    </tr>\n",
              "  </tbody>\n",
              "</table>\n",
              "</div>"
            ],
            "text/plain": [
              "   user_id  purchases  unique_brands lovely_brand  lovely_brand_purchases\n",
              "0     1031          6              2  Store_Brand                       5\n",
              "1     4241          5              2      Brand_4                       3\n",
              "2    25971          7              2  Store_Brand                       5\n",
              "3    40911         27              5      Brand_4                      19\n",
              "4    45181          5              4  Store_Brand                       2"
            ]
          },
          "metadata": {},
          "execution_count": 78
        }
      ]
    },
    {
      "cell_type": "code",
      "metadata": {
        "id": "ERvchEhTVsIn"
      },
      "source": [
        "#выбираем покупки, где один бренд\n",
        "loyal_users = loyalty_df[loyalty_df.unique_brands == 1]"
      ],
      "execution_count": 79,
      "outputs": []
    },
    {
      "cell_type": "code",
      "metadata": {
        "colab": {
          "base_uri": "https://localhost:8080/",
          "height": 419
        },
        "id": "zI5qX2MdVs3W",
        "outputId": "4f437be1-7074-440f-9fc9-3c8cb2658de4"
      },
      "source": [
        "loyal_users"
      ],
      "execution_count": 80,
      "outputs": [
        {
          "output_type": "execute_result",
          "data": {
            "text/html": [
              "<div>\n",
              "<style scoped>\n",
              "    .dataframe tbody tr th:only-of-type {\n",
              "        vertical-align: middle;\n",
              "    }\n",
              "\n",
              "    .dataframe tbody tr th {\n",
              "        vertical-align: top;\n",
              "    }\n",
              "\n",
              "    .dataframe thead th {\n",
              "        text-align: right;\n",
              "    }\n",
              "</style>\n",
              "<table border=\"1\" class=\"dataframe\">\n",
              "  <thead>\n",
              "    <tr style=\"text-align: right;\">\n",
              "      <th></th>\n",
              "      <th>user_id</th>\n",
              "      <th>purchases</th>\n",
              "      <th>unique_brands</th>\n",
              "      <th>lovely_brand</th>\n",
              "      <th>lovely_brand_purchases</th>\n",
              "    </tr>\n",
              "  </thead>\n",
              "  <tbody>\n",
              "    <tr>\n",
              "      <th>13</th>\n",
              "      <td>86281</td>\n",
              "      <td>14</td>\n",
              "      <td>1</td>\n",
              "      <td>Brand_4</td>\n",
              "      <td>14</td>\n",
              "    </tr>\n",
              "    <tr>\n",
              "      <th>18</th>\n",
              "      <td>94961</td>\n",
              "      <td>6</td>\n",
              "      <td>1</td>\n",
              "      <td>Brand_4</td>\n",
              "      <td>6</td>\n",
              "    </tr>\n",
              "    <tr>\n",
              "      <th>29</th>\n",
              "      <td>132061</td>\n",
              "      <td>9</td>\n",
              "      <td>1</td>\n",
              "      <td>Brand_4</td>\n",
              "      <td>9</td>\n",
              "    </tr>\n",
              "    <tr>\n",
              "      <th>30</th>\n",
              "      <td>134281</td>\n",
              "      <td>6</td>\n",
              "      <td>1</td>\n",
              "      <td>Brand_4</td>\n",
              "      <td>6</td>\n",
              "    </tr>\n",
              "    <tr>\n",
              "      <th>35</th>\n",
              "      <td>157311</td>\n",
              "      <td>12</td>\n",
              "      <td>1</td>\n",
              "      <td>Brand_4</td>\n",
              "      <td>12</td>\n",
              "    </tr>\n",
              "    <tr>\n",
              "      <th>...</th>\n",
              "      <td>...</td>\n",
              "      <td>...</td>\n",
              "      <td>...</td>\n",
              "      <td>...</td>\n",
              "      <td>...</td>\n",
              "    </tr>\n",
              "    <tr>\n",
              "      <th>3372</th>\n",
              "      <td>1010244089</td>\n",
              "      <td>9</td>\n",
              "      <td>1</td>\n",
              "      <td>Store_Brand</td>\n",
              "      <td>9</td>\n",
              "    </tr>\n",
              "    <tr>\n",
              "      <th>3374</th>\n",
              "      <td>1010247239</td>\n",
              "      <td>5</td>\n",
              "      <td>1</td>\n",
              "      <td>Brand_4</td>\n",
              "      <td>5</td>\n",
              "    </tr>\n",
              "    <tr>\n",
              "      <th>3376</th>\n",
              "      <td>1010274559</td>\n",
              "      <td>5</td>\n",
              "      <td>1</td>\n",
              "      <td>Brand_4</td>\n",
              "      <td>5</td>\n",
              "    </tr>\n",
              "    <tr>\n",
              "      <th>3377</th>\n",
              "      <td>1110091379</td>\n",
              "      <td>5</td>\n",
              "      <td>1</td>\n",
              "      <td>Brand_1</td>\n",
              "      <td>5</td>\n",
              "    </tr>\n",
              "    <tr>\n",
              "      <th>3378</th>\n",
              "      <td>1408767189</td>\n",
              "      <td>5</td>\n",
              "      <td>1</td>\n",
              "      <td>Brand_4</td>\n",
              "      <td>5</td>\n",
              "    </tr>\n",
              "  </tbody>\n",
              "</table>\n",
              "<p>911 rows × 5 columns</p>\n",
              "</div>"
            ],
            "text/plain": [
              "         user_id  purchases  unique_brands lovely_brand  lovely_brand_purchases\n",
              "13         86281         14              1      Brand_4                      14\n",
              "18         94961          6              1      Brand_4                       6\n",
              "29        132061          9              1      Brand_4                       9\n",
              "30        134281          6              1      Brand_4                       6\n",
              "35        157311         12              1      Brand_4                      12\n",
              "...          ...        ...            ...          ...                     ...\n",
              "3372  1010244089          9              1  Store_Brand                       9\n",
              "3374  1010247239          5              1      Brand_4                       5\n",
              "3376  1010274559          5              1      Brand_4                       5\n",
              "3377  1110091379          5              1      Brand_1                       5\n",
              "3378  1408767189          5              1      Brand_4                       5\n",
              "\n",
              "[911 rows x 5 columns]"
            ]
          },
          "metadata": {},
          "execution_count": 80
        }
      ]
    },
    {
      "cell_type": "code",
      "metadata": {
        "id": "vyAFJfPdVtIN"
      },
      "source": [
        "loyalty_df['loyalty_score'] = round(loyalty_df.lovely_brand_purchases/ loyalty_df.purchases, 2)"
      ],
      "execution_count": 81,
      "outputs": []
    },
    {
      "cell_type": "code",
      "metadata": {
        "colab": {
          "base_uri": "https://localhost:8080/",
          "height": 419
        },
        "id": "m9CPGK6nmMMZ",
        "outputId": "812548b1-cff3-4eeb-a77c-d8f8ea89e35b"
      },
      "source": [
        "loyalty_df"
      ],
      "execution_count": 82,
      "outputs": [
        {
          "output_type": "execute_result",
          "data": {
            "text/html": [
              "<div>\n",
              "<style scoped>\n",
              "    .dataframe tbody tr th:only-of-type {\n",
              "        vertical-align: middle;\n",
              "    }\n",
              "\n",
              "    .dataframe tbody tr th {\n",
              "        vertical-align: top;\n",
              "    }\n",
              "\n",
              "    .dataframe thead th {\n",
              "        text-align: right;\n",
              "    }\n",
              "</style>\n",
              "<table border=\"1\" class=\"dataframe\">\n",
              "  <thead>\n",
              "    <tr style=\"text-align: right;\">\n",
              "      <th></th>\n",
              "      <th>user_id</th>\n",
              "      <th>purchases</th>\n",
              "      <th>unique_brands</th>\n",
              "      <th>lovely_brand</th>\n",
              "      <th>lovely_brand_purchases</th>\n",
              "      <th>loyalty_score</th>\n",
              "    </tr>\n",
              "  </thead>\n",
              "  <tbody>\n",
              "    <tr>\n",
              "      <th>0</th>\n",
              "      <td>1031</td>\n",
              "      <td>6</td>\n",
              "      <td>2</td>\n",
              "      <td>Store_Brand</td>\n",
              "      <td>5</td>\n",
              "      <td>0.83</td>\n",
              "    </tr>\n",
              "    <tr>\n",
              "      <th>1</th>\n",
              "      <td>4241</td>\n",
              "      <td>5</td>\n",
              "      <td>2</td>\n",
              "      <td>Brand_4</td>\n",
              "      <td>3</td>\n",
              "      <td>0.60</td>\n",
              "    </tr>\n",
              "    <tr>\n",
              "      <th>2</th>\n",
              "      <td>25971</td>\n",
              "      <td>7</td>\n",
              "      <td>2</td>\n",
              "      <td>Store_Brand</td>\n",
              "      <td>5</td>\n",
              "      <td>0.71</td>\n",
              "    </tr>\n",
              "    <tr>\n",
              "      <th>3</th>\n",
              "      <td>40911</td>\n",
              "      <td>27</td>\n",
              "      <td>5</td>\n",
              "      <td>Brand_4</td>\n",
              "      <td>19</td>\n",
              "      <td>0.70</td>\n",
              "    </tr>\n",
              "    <tr>\n",
              "      <th>4</th>\n",
              "      <td>45181</td>\n",
              "      <td>5</td>\n",
              "      <td>4</td>\n",
              "      <td>Store_Brand</td>\n",
              "      <td>2</td>\n",
              "      <td>0.40</td>\n",
              "    </tr>\n",
              "    <tr>\n",
              "      <th>...</th>\n",
              "      <td>...</td>\n",
              "      <td>...</td>\n",
              "      <td>...</td>\n",
              "      <td>...</td>\n",
              "      <td>...</td>\n",
              "      <td>...</td>\n",
              "    </tr>\n",
              "    <tr>\n",
              "      <th>3378</th>\n",
              "      <td>1408767189</td>\n",
              "      <td>5</td>\n",
              "      <td>1</td>\n",
              "      <td>Brand_4</td>\n",
              "      <td>5</td>\n",
              "      <td>1.00</td>\n",
              "    </tr>\n",
              "    <tr>\n",
              "      <th>3379</th>\n",
              "      <td>1408783189</td>\n",
              "      <td>10</td>\n",
              "      <td>2</td>\n",
              "      <td>Store_Brand</td>\n",
              "      <td>8</td>\n",
              "      <td>0.80</td>\n",
              "    </tr>\n",
              "    <tr>\n",
              "      <th>3380</th>\n",
              "      <td>1408783379</td>\n",
              "      <td>6</td>\n",
              "      <td>2</td>\n",
              "      <td>Brand_1</td>\n",
              "      <td>4</td>\n",
              "      <td>0.67</td>\n",
              "    </tr>\n",
              "    <tr>\n",
              "      <th>3381</th>\n",
              "      <td>1408798879</td>\n",
              "      <td>8</td>\n",
              "      <td>3</td>\n",
              "      <td>Store_Brand</td>\n",
              "      <td>4</td>\n",
              "      <td>0.50</td>\n",
              "    </tr>\n",
              "    <tr>\n",
              "      <th>3382</th>\n",
              "      <td>1408810219</td>\n",
              "      <td>9</td>\n",
              "      <td>2</td>\n",
              "      <td>Brand_2</td>\n",
              "      <td>6</td>\n",
              "      <td>0.67</td>\n",
              "    </tr>\n",
              "  </tbody>\n",
              "</table>\n",
              "<p>3383 rows × 6 columns</p>\n",
              "</div>"
            ],
            "text/plain": [
              "         user_id  purchases  ...  lovely_brand_purchases loyalty_score\n",
              "0           1031          6  ...                       5          0.83\n",
              "1           4241          5  ...                       3          0.60\n",
              "2          25971          7  ...                       5          0.71\n",
              "3          40911         27  ...                      19          0.70\n",
              "4          45181          5  ...                       2          0.40\n",
              "...          ...        ...  ...                     ...           ...\n",
              "3378  1408767189          5  ...                       5          1.00\n",
              "3379  1408783189         10  ...                       8          0.80\n",
              "3380  1408783379          6  ...                       4          0.67\n",
              "3381  1408798879          8  ...                       4          0.50\n",
              "3382  1408810219          9  ...                       6          0.67\n",
              "\n",
              "[3383 rows x 6 columns]"
            ]
          },
          "metadata": {},
          "execution_count": 82
        }
      ]
    },
    {
      "cell_type": "code",
      "metadata": {
        "colab": {
          "base_uri": "https://localhost:8080/",
          "height": 334
        },
        "id": "j4ADBCBhmMcp",
        "outputId": "e07d5c32-dff9-4355-b012-316b9d3ceeb1"
      },
      "source": [
        "ax = sns.distplot(loyalty_df.loyalty_score, kde = False)"
      ],
      "execution_count": 83,
      "outputs": [
        {
          "output_type": "stream",
          "name": "stderr",
          "text": [
            "/usr/local/lib/python3.7/dist-packages/seaborn/distributions.py:2619: FutureWarning: `distplot` is a deprecated function and will be removed in a future version. Please adapt your code to use either `displot` (a figure-level function with similar flexibility) or `histplot` (an axes-level function for histograms).\n",
            "  warnings.warn(msg, FutureWarning)\n"
          ]
        },
        {
          "output_type": "display_data",
          "data": {
            "image/png": "[encoded data removed]",
            "text/plain": [
              "<Figure size 432x288 with 1 Axes>"
            ]
          },
          "metadata": {
            "needs_background": "light"
          }
        }
      ]
    },
    {
      "cell_type": "code",
      "metadata": {
        "id": "R1k4yyWomMrt"
      },
      "source": [
        "loyalty_1 = loyalty_df.groupby('lovely_brand', as_index = False)\\\n",
        "  .agg({'loyalty_score': 'median', 'user_id': 'count'})\\\n",
        "  .rename(columns = {'loyalty_score':'loyalty_score_median', 'user_id': 'people_amount'}) #.plot()"
      ],
      "execution_count": 84,
      "outputs": []
    },
    {
      "cell_type": "code",
      "metadata": {
        "colab": {
          "base_uri": "https://localhost:8080/",
          "height": 281
        },
        "id": "z_S_iYdpPFWa",
        "outputId": "82afc73e-9f4c-4df4-be99-7e6b3319bb54"
      },
      "source": [
        "ax = sns.barplot(x = loyalty_1.lovely_brand, y = loyalty_1.loyalty_score_median, data = loyalty_1)"
      ],
      "execution_count": 85,
      "outputs": [
        {
          "output_type": "display_data",
          "data": {
            "image/png": "[encoded data removed]",
            "text/plain": [
              "<Figure size 432x288 with 1 Axes>"
            ]
          },
          "metadata": {
            "needs_background": "light"
          }
        }
      ]
    },
    {
      "cell_type": "code",
      "metadata": {
        "colab": {
          "base_uri": "https://localhost:8080/",
          "height": 281
        },
        "id": "nw-ELuupPFbQ",
        "outputId": "a1084016-7b90-4963-c4c9-355c93799124"
      },
      "source": [
        "ax = sns.barplot(x = loyalty_1.lovely_brand, y = loyalty_1.people_amount, data = loyalty_1)"
      ],
      "execution_count": 86,
      "outputs": [
        {
          "output_type": "display_data",
          "data": {
            "image/png": "[encoded data removed]",
            "text/plain": [
              "<Figure size 432x288 with 1 Axes>"
            ]
          },
          "metadata": {
            "needs_background": "light"
          }
        }
      ]
    }
  ]
}